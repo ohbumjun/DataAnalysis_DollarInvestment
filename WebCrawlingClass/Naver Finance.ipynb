{
 "cells": [
  {
   "cell_type": "code",
   "execution_count": 3,
   "id": "37f014e4",
   "metadata": {
    "scrolled": true
   },
   "outputs": [],
   "source": [
    "import requests"
   ]
  },
  {
   "cell_type": "code",
   "execution_count": 4,
   "id": "93811f62",
   "metadata": {},
   "outputs": [],
   "source": [
    "# 삼성전자 주식 일별 시세\n",
    "res = requests.get(\"https://finance.naver.com/item/sise_day.naver?code=005930&page=6\")"
   ]
  },
  {
   "cell_type": "code",
   "execution_count": 5,
   "id": "f6452fb7",
   "metadata": {},
   "outputs": [
    {
     "data": {
      "text/plain": [
       "200"
      ]
     },
     "execution_count": 5,
     "metadata": {},
     "output_type": "execute_result"
    }
   ],
   "source": [
    "res.status_code"
   ]
  },
  {
   "cell_type": "code",
   "execution_count": 6,
   "id": "edd04792",
   "metadata": {},
   "outputs": [
    {
     "data": {
      "text/plain": [
       "'\\n<!DOCTYPE HTML PUBLIC \"-//W3C//DTD HTML 4.01 Transitional//EN\" \"http://www.w3.org/TR/html4/loose.dtd\">\\n<html>\\n<head>\\n<meta http-equiv=\"Content-Type\" content=\"text/html; charset=euc-kr\">\\n<title>네이버 :: 세상의 모든 지식, 네이버</title>\\n\\n<style type=\"text/css\">\\n.error_content * {margin:0;padding:0;}\\n.error_content img{border:none;}\\n.error_content em {font-style:normal;}\\n.error_content {width:410px; margin:80px auto 0; padding:57px 0 0 0; font-size:12px; font-family:\"나눔고딕\", \"NanumGothic\", \"돋움\", Dotum, AppleGothic, Sans-serif; text-align:left; line-height:14px; background:url(https://ssl.pstatic.net/static/common/error/090610/bg_thumb.gif) no-repeat center top; white-space:nowrap;}\\n.error_content p{margin:0;}\\n.error_content .error_desc {margin-bottom:21px; overflow:hidden; text-align:center;}\\n.error_content .error_desc2 {margin-bottom:11px; padding-bottom:7px; color:#888; line-height:18px; border-bottom:1px solid #eee;}\\n.error_content .error_desc3 {clear:both; color:#888;}\\n.error_content .error_desc3 a {color:#004790; text-decoration:underline;}\\n.error_content .error_list_type {clear:both; float:left; width:410px; _width:428px; margin:0 0 18px 0; *margin:0 0 7px 0; padding-bottom:13px; font-size:13px; color:#000; line-height:18px; border-bottom:1px solid #eee;}\\n.error_content .error_list_type dt {float:left; width:60px; _width /**/:70px; padding-left:10px; background:url(https://ssl.pstatic.net/static/common/error/090610/bg_dot.gif) no-repeat 2px 8px;}\\n.error_content .error_list_type dd {float:left; width:336px; _width /**/:340px; padding:0 0 0 4px;}\\n.error_content .error_list_type dd span {color:#339900; letter-spacing:0;}\\n.error_content .error_list_type dd a{color:#339900;}\\n.error_content p.btn{margin:29px 0 100px; text-align:center;}\\n</style>\\n</head>\\n<!-- ERROR -->\\n<body>\\n<div class=\"error_content\">\\n\\t<p class=\"error_desc\"><img src=\"https://ssl.pstatic.net/static/common/error/090610/txt_desc5.gif\" width=\"319\" height=\"30\" alt=\"페이지를 찾을 수 없습니다.\"></p>\\n\\t<p class=\"error_desc2\">방문하시려는 페이지의 주소가 잘못 입력되었거나,<br>\\n\\t\\t페이지의 주소가 변경 혹은 삭제되어 요청하신 페이지를 찾을 수 없습니다.<br>\\n\\t\\t입력하신 주소가 정확한지 다시 한번 확인해 주시기 바랍니다.\\n\\t</p>\\n\\t<p class=\"error_desc3\">관련 문의사항은 <a href=\"https://help.naver.com/\" target=\"_blank\">고객센터</a>에 알려주시면 친절히 안내해드리겠습니다. 감사합니다.</p>\\n\\t<p class=\"btn\">\\n\\t\\t<a href=\"javascript:history.back()\"><img src=\"https://ssl.pstatic.net/static/common/error/090610/btn_prevpage.gif\" width=\"115\" height=\"35\" alt=\"이전 페이지로\"></a>\\n\\t\\t<a href=\"https://finance.naver.com\"><img src=\"https://ssl.pstatic.net/static/nfinance/btn_home.gif\" width=\"115\" height=\"35\" alt=\"증권홈으로\"></a>\\n\\t</p>\\n</div>\\n</body>\\n</html>\\n'"
      ]
     },
     "execution_count": 6,
     "metadata": {},
     "output_type": "execute_result"
    }
   ],
   "source": [
    "# 실제 Response 내용보다 적다\n",
    "res.text"
   ]
  },
  {
   "cell_type": "code",
   "execution_count": 7,
   "id": "e1d11b9c",
   "metadata": {},
   "outputs": [],
   "source": [
    "req_headers = {\n",
    "    \"referer\": \"https://finance.naver.com/item/sise_day.naver?code=005930&page=5\",\n",
    "    \"upgrade-insecure-requests\": \"1\",\n",
    "    \"user-agent\": \"Mozilla/5.0 (Windows NT 10.0; Win64; x64) AppleWebKit/537.36 (KHTML, like Gecko) Chrome/112.0.5615.138 Safari/537.36\"\n",
    "}"
   ]
  },
  {
   "cell_type": "code",
   "execution_count": 8,
   "id": "2daa87e4",
   "metadata": {},
   "outputs": [],
   "source": [
    "# request 다시 요청\n",
    "# 삼성전자 주식 일별 시세\n",
    "res = requests.get(\n",
    "    url = \"https://finance.naver.com/item/sise_day.naver?code=005930&page=6\",\n",
    "    headers = req_headers\n",
    ")"
   ]
  },
  {
   "cell_type": "code",
   "execution_count": 9,
   "id": "a4c25656",
   "metadata": {},
   "outputs": [
    {
     "data": {
      "text/plain": [
       "200"
      ]
     },
     "execution_count": 9,
     "metadata": {},
     "output_type": "execute_result"
    }
   ],
   "source": [
    "res.status_code"
   ]
  },
  {
   "cell_type": "code",
   "execution_count": 10,
   "id": "edab2c17",
   "metadata": {
    "collapsed": true
   },
   "outputs": [
    {
     "data": {
      "text/plain": [
       "'\\n<html lang=\"ko\">\\n<head>\\n<meta http-equiv=\"Content-Type\" content=\"text/html; charset=euc-kr\">\\n<title>네이버 증권</title>\\n\\n<link rel=\"stylesheet\" type=\"text/css\" href=\"https://ssl.pstatic.net/imgstock/static.pc/20230519195543/css/newstock.css\">\\n<link rel=\"stylesheet\" type=\"text/css\" href=\"https://ssl.pstatic.net/imgstock/static.pc/20230519195543/css/common.css\">\\n<link rel=\"stylesheet\" type=\"text/css\" href=\"https://ssl.pstatic.net/imgstock/static.pc/20230519195543/css/layout.css\">\\n<link rel=\"stylesheet\" type=\"text/css\" href=\"https://ssl.pstatic.net/imgstock/static.pc/20230519195543/css/main.css\">\\n<link rel=\"stylesheet\" type=\"text/css\" href=\"https://ssl.pstatic.net/imgstock/static.pc/20230519195543/css/newstock2.css\">\\n<link rel=\"stylesheet\" type=\"text/css\" href=\"https://ssl.pstatic.net/imgstock/static.pc/20230519195543/css/newstock3.css\">\\n<link rel=\"stylesheet\" type=\"text/css\" href=\"https://ssl.pstatic.net/imgstock/static.pc/20230519195543/css/world.css\">\\n</head>\\n<body>\\n<script language=\"JavaScript\">\\nfunction mouseOver(obj){\\n  obj.style.backgroundColor=\"#f6f4e5\";\\n}\\nfunction mouseOut(obj){\\n  obj.style.backgroundColor=\"#ffffff\";\\n}\\n</script>\\n\\t\\t\\t\\t<h4 class=\"tlline2\"><strong><span class=\"red03\">일별</span>시세</strong></h4>\\t\\t\\t\\n\\t\\t\\t\\t<table cellspacing=\"0\" class=\"type2\">\\n\\t\\t\\t\\t<tr>\\n\\t\\t\\t\\t<th>날짜</th>\\n\\t\\t\\t\\t<th>종가</th>\\n\\t\\t\\t\\t<th>전일비</th>\\n\\t\\t\\t\\t<th>시가</th>\\n\\t\\t\\t\\t<th>고가</th>\\n\\t\\t\\t\\t<th>저가</th>\\n\\t\\t\\t\\t<th>거래량</th>\\n\\t\\t\\t\\t</tr>\\n\\t\\t\\t\\t<tr>\\n\\t\\t\\t\\t<td colspan=\"7\" height=\"8\"></td>\\n\\t\\t\\t\\t</tr>\\n\\n\\n\\t\\n\\t\\n\\t\\n\\t\\t\\n\\t\\t\\t\\n\\t\\t\\t\\t\\n\\t\\t\\t\\t\\t<tr onMouseOver=\"mouseOver(this)\" onMouseOut=\"mouseOut(this)\">\\n\\t\\t\\t\\t\\t<td align=\"center\"><span class=\"tah p10 gray03\">2023.03.10</span></td>\\n\\t\\t\\t\\t\\t<td class=\"num\"><span class=\"tah p11\">59,500</span></td>\\n\\t\\t\\t\\t\\t<td class=\"num\">\\n\\t\\t\\t\\t<img src=\"https://ssl.pstatic.net/imgstock/images/images4/ico_down.gif\" width=\"7\" height=\"6\" style=\"margin-right:4px;\" alt=\"하락\"><span class=\"tah p11 nv01\">\\n\\t\\t\\t\\t600\\n\\t\\t\\t\\t</span>\\n\\t\\t\\t</td>\\n\\t\\t\\t\\t\\t<td class=\"num\"><span class=\"tah p11\">59,500</span></td>\\n\\t\\t\\t\\t\\t<td class=\"num\"><span class=\"tah p11\">59,700</span></td>\\n\\t\\t\\t\\t\\t<td class=\"num\"><span class=\"tah p11\">59,100</span></td>\\n\\t\\t\\t\\t\\t<td class=\"num\"><span class=\"tah p11\">11,902,471</span></td>\\n\\t\\t\\t\\t\\t</tr>\\n\\t\\t\\t\\t\\n\\t\\t\\t\\t\\n\\t\\t\\t\\n\\t\\t\\t\\n\\t\\t\\t\\n\\t\\t\\t\\n\\t\\t\\t\\n\\t\\n\\t\\t\\n\\t\\t\\t\\n\\t\\t\\t\\t\\n\\t\\t\\t\\t\\t<tr onMouseOver=\"mouseOver(this)\" onMouseOut=\"mouseOut(this)\">\\n\\t\\t\\t\\t\\t<td align=\"center\"><span class=\"tah p10 gray03\">2023.03.09</span></td>\\n\\t\\t\\t\\t\\t<td class=\"num\"><span class=\"tah p11\">60,100</span></td>\\n\\t\\t\\t\\t\\t<td class=\"num\">\\n\\t\\t\\t\\t<img src=\"https://ssl.pstatic.net/imgstock/images/images4/ico_down.gif\" width=\"7\" height=\"6\" style=\"margin-right:4px;\" alt=\"하락\"><span class=\"tah p11 nv01\">\\n\\t\\t\\t\\t200\\n\\t\\t\\t\\t</span>\\n\\t\\t\\t</td>\\n\\t\\t\\t\\t\\t<td class=\"num\"><span class=\"tah p11\">60,500</span></td>\\n\\t\\t\\t\\t\\t<td class=\"num\"><span class=\"tah p11\">60,800</span></td>\\n\\t\\t\\t\\t\\t<td class=\"num\"><span class=\"tah p11\">59,900</span></td>\\n\\t\\t\\t\\t\\t<td class=\"num\"><span class=\"tah p11\">14,334,499</span></td>\\n\\t\\t\\t\\t\\t</tr>\\n\\t\\t\\t\\t\\n\\t\\t\\t\\t\\n\\t\\t\\t\\n\\t\\t\\t\\n\\t\\t\\t\\n\\t\\t\\t\\n\\t\\t\\t\\n\\t\\n\\t\\t\\n\\t\\t\\t\\n\\t\\t\\t\\t\\n\\t\\t\\t\\t\\t<tr onMouseOver=\"mouseOver(this)\" onMouseOut=\"mouseOut(this)\">\\n\\t\\t\\t\\t\\t<td align=\"center\"><span class=\"tah p10 gray03\">2023.03.08</span></td>\\n\\t\\t\\t\\t\\t<td class=\"num\"><span class=\"tah p11\">60,300</span></td>\\n\\t\\t\\t\\t\\t<td class=\"num\">\\n\\t\\t\\t\\t<img src=\"https://ssl.pstatic.net/imgstock/images/images4/ico_down.gif\" width=\"7\" height=\"6\" style=\"margin-right:4px;\" alt=\"하락\"><span class=\"tah p11 nv01\">\\n\\t\\t\\t\\t400\\n\\t\\t\\t\\t</span>\\n\\t\\t\\t</td>\\n\\t\\t\\t\\t\\t<td class=\"num\"><span class=\"tah p11\">60,100</span></td>\\n\\t\\t\\t\\t\\t<td class=\"num\"><span class=\"tah p11\">60,500</span></td>\\n\\t\\t\\t\\t\\t<td class=\"num\"><span class=\"tah p11\">59,900</span></td>\\n\\t\\t\\t\\t\\t<td class=\"num\"><span class=\"tah p11\">14,161,857</span></td>\\n\\t\\t\\t\\t\\t</tr>\\n\\t\\t\\t\\t\\n\\t\\t\\t\\t\\n\\t\\t\\t\\n\\t\\t\\t\\n\\t\\t\\t\\n\\t\\t\\t\\n\\t\\t\\t\\n\\t\\n\\t\\t\\n\\t\\t\\t\\n\\t\\t\\t\\t\\n\\t\\t\\t\\t\\t<tr onMouseOver=\"mouseOver(this)\" onMouseOut=\"mouseOut(this)\">\\n\\t\\t\\t\\t\\t<td align=\"center\"><span class=\"tah p10 gray03\">2023.03.07</span></td>\\n\\t\\t\\t\\t\\t<td class=\"num\"><span class=\"tah p11\">60,700</span></td>\\n\\t\\t\\t\\t\\t<td class=\"num\">\\n\\t\\t\\t\\t<img src=\"https://ssl.pstatic.net/imgstock/images/images4/ico_down.gif\" width=\"7\" height=\"6\" style=\"margin-right:4px;\" alt=\"하락\"><span class=\"tah p11 nv01\">\\n\\t\\t\\t\\t800\\n\\t\\t\\t\\t</span>\\n\\t\\t\\t</td>\\n\\t\\t\\t\\t\\t<td class=\"num\"><span class=\"tah p11\">61,400</span></td>\\n\\t\\t\\t\\t\\t<td class=\"num\"><span class=\"tah p11\">61,400</span></td>\\n\\t\\t\\t\\t\\t<td class=\"num\"><span class=\"tah p11\">60,700</span></td>\\n\\t\\t\\t\\t\\t<td class=\"num\"><span class=\"tah p11\">11,473,280</span></td>\\n\\t\\t\\t\\t\\t</tr>\\n\\t\\t\\t\\t\\n\\t\\t\\t\\t\\n\\t\\t\\t\\n\\t\\t\\t\\n\\t\\t\\t\\n\\t\\t\\t\\n\\t\\t\\t\\n\\t\\n\\t\\t\\n\\t\\t\\t\\n\\t\\t\\t\\t\\n\\t\\t\\t\\t\\t<tr onMouseOver=\"mouseOver(this)\" onMouseOut=\"mouseOut(this)\">\\n\\t\\t\\t\\t\\t<td align=\"center\"><span class=\"tah p10 gray03\">2023.03.06</span></td>\\n\\t\\t\\t\\t\\t<td class=\"num\"><span class=\"tah p11\">61,500</span></td>\\n\\t\\t\\t\\t\\t<td class=\"num\">\\n\\t\\t\\t\\t<img src=\"https://ssl.pstatic.net/imgstock/images/images4/ico_up.gif\" width=\"7\" height=\"6\" style=\"margin-right:4px;\" alt=\"상승\"><span class=\"tah p11 red02\">\\n\\t\\t\\t\\t1,000\\n\\t\\t\\t\\t</span>\\n\\t\\t\\t</td>\\n\\t\\t\\t\\t\\t<td class=\"num\"><span class=\"tah p11\">61,100</span></td>\\n\\t\\t\\t\\t\\t<td class=\"num\"><span class=\"tah p11\">61,600</span></td>\\n\\t\\t\\t\\t\\t<td class=\"num\"><span class=\"tah p11\">60,800</span></td>\\n\\t\\t\\t\\t\\t<td class=\"num\"><span class=\"tah p11\">13,630,602</span></td>\\n\\t\\t\\t\\t\\t</tr>\\n\\t\\t\\t\\t\\n\\t\\t\\t\\t\\n\\t\\t\\t\\n\\t\\t\\t\\n\\t\\t\\t\\n\\t\\t\\t\\n\\t\\t\\t\\t<tr>\\n\\t\\t\\t\\t<td colspan=\"7\" height=\"8\"></td>\\n\\t\\t\\t\\t</tr>\\n\\t\\t\\t\\t<tr>\\n\\t\\t\\t\\t<td colspan=\"7\" height=\"1\" bgcolor=\"#e1e1e1\"></td>\\n\\t\\t\\t\\t</tr>\\n\\t\\t\\t\\t<tr>\\n\\t\\t\\t\\t<td colspan=\"7\" height=\"8\"></td>\\n\\t\\t\\t\\t</tr>\\n\\t\\t\\t\\n\\t\\t\\t\\n\\t\\n\\t\\t\\n\\t\\t\\t\\n\\t\\t\\t\\t\\n\\t\\t\\t\\t\\t<tr onMouseOver=\"mouseOver(this)\" onMouseOut=\"mouseOut(this)\">\\n\\t\\t\\t\\t\\t<td align=\"center\"><span class=\"tah p10 gray03\">2023.03.03</span></td>\\n\\t\\t\\t\\t\\t<td class=\"num\"><span class=\"tah p11\">60,500</span></td>\\n\\t\\t\\t\\t\\t<td class=\"num\">\\n\\t\\t\\t\\t<img src=\"https://ssl.pstatic.net/imgstock/images/images4/ico_down.gif\" width=\"7\" height=\"6\" style=\"margin-right:4px;\" alt=\"하락\"><span class=\"tah p11 nv01\">\\n\\t\\t\\t\\t300\\n\\t\\t\\t\\t</span>\\n\\t\\t\\t</td>\\n\\t\\t\\t\\t\\t<td class=\"num\"><span class=\"tah p11\">61,000</span></td>\\n\\t\\t\\t\\t\\t<td class=\"num\"><span class=\"tah p11\">61,200</span></td>\\n\\t\\t\\t\\t\\t<td class=\"num\"><span class=\"tah p11\">60,500</span></td>\\n\\t\\t\\t\\t\\t<td class=\"num\"><span class=\"tah p11\">10,711,405</span></td>\\n\\t\\t\\t\\t\\t</tr>\\n\\t\\t\\t\\t\\n\\t\\t\\t\\t\\n\\t\\t\\t\\n\\t\\t\\t\\n\\t\\t\\t\\n\\t\\t\\t\\n\\t\\t\\t\\n\\t\\n\\t\\t\\n\\t\\t\\t\\n\\t\\t\\t\\t\\n\\t\\t\\t\\t\\t<tr onMouseOver=\"mouseOver(this)\" onMouseOut=\"mouseOut(this)\">\\n\\t\\t\\t\\t\\t<td align=\"center\"><span class=\"tah p10 gray03\">2023.03.02</span></td>\\n\\t\\t\\t\\t\\t<td class=\"num\"><span class=\"tah p11\">60,800</span></td>\\n\\t\\t\\t\\t\\t<td class=\"num\">\\n\\t\\t\\t\\t<img src=\"https://ssl.pstatic.net/imgstock/images/images4/ico_up.gif\" width=\"7\" height=\"6\" style=\"margin-right:4px;\" alt=\"상승\"><span class=\"tah p11 red02\">\\n\\t\\t\\t\\t200\\n\\t\\t\\t\\t</span>\\n\\t\\t\\t</td>\\n\\t\\t\\t\\t\\t<td class=\"num\"><span class=\"tah p11\">60,900</span></td>\\n\\t\\t\\t\\t\\t<td class=\"num\"><span class=\"tah p11\">61,800</span></td>\\n\\t\\t\\t\\t\\t<td class=\"num\"><span class=\"tah p11\">60,500</span></td>\\n\\t\\t\\t\\t\\t<td class=\"num\"><span class=\"tah p11\">13,095,682</span></td>\\n\\t\\t\\t\\t\\t</tr>\\n\\t\\t\\t\\t\\n\\t\\t\\t\\t\\n\\t\\t\\t\\n\\t\\t\\t\\n\\t\\t\\t\\n\\t\\t\\t\\n\\t\\t\\t\\n\\t\\n\\t\\t\\n\\t\\t\\t\\n\\t\\t\\t\\t\\n\\t\\t\\t\\t\\t<tr onMouseOver=\"mouseOver(this)\" onMouseOut=\"mouseOut(this)\">\\n\\t\\t\\t\\t\\t<td align=\"center\"><span class=\"tah p10 gray03\">2023.02.28</span></td>\\n\\t\\t\\t\\t\\t<td class=\"num\"><span class=\"tah p11\">60,600</span></td>\\n\\t\\t\\t\\t\\t<td class=\"num\">\\n\\t\\t\\t\\t<img src=\"https://ssl.pstatic.net/imgstock/images/images4/ico_up.gif\" width=\"7\" height=\"6\" style=\"margin-right:4px;\" alt=\"상승\"><span class=\"tah p11 red02\">\\n\\t\\t\\t\\t100\\n\\t\\t\\t\\t</span>\\n\\t\\t\\t</td>\\n\\t\\t\\t\\t\\t<td class=\"num\"><span class=\"tah p11\">60,800</span></td>\\n\\t\\t\\t\\t\\t<td class=\"num\"><span class=\"tah p11\">61,400</span></td>\\n\\t\\t\\t\\t\\t<td class=\"num\"><span class=\"tah p11\">60,500</span></td>\\n\\t\\t\\t\\t\\t<td class=\"num\"><span class=\"tah p11\">13,715,861</span></td>\\n\\t\\t\\t\\t\\t</tr>\\n\\t\\t\\t\\t\\n\\t\\t\\t\\t\\n\\t\\t\\t\\n\\t\\t\\t\\n\\t\\t\\t\\n\\t\\t\\t\\n\\t\\t\\t\\n\\t\\n\\t\\t\\n\\t\\t\\t\\n\\t\\t\\t\\t\\n\\t\\t\\t\\t\\t<tr onMouseOver=\"mouseOver(this)\" onMouseOut=\"mouseOut(this)\">\\n\\t\\t\\t\\t\\t<td align=\"center\"><span class=\"tah p10 gray03\">2023.02.27</span></td>\\n\\t\\t\\t\\t\\t<td class=\"num\"><span class=\"tah p11\">60,500</span></td>\\n\\t\\t\\t\\t\\t<td class=\"num\">\\n\\t\\t\\t\\t<img src=\"https://ssl.pstatic.net/imgstock/images/images4/ico_down.gif\" width=\"7\" height=\"6\" style=\"margin-right:4px;\" alt=\"하락\"><span class=\"tah p11 nv01\">\\n\\t\\t\\t\\t800\\n\\t\\t\\t\\t</span>\\n\\t\\t\\t</td>\\n\\t\\t\\t\\t\\t<td class=\"num\"><span class=\"tah p11\">60,800</span></td>\\n\\t\\t\\t\\t\\t<td class=\"num\"><span class=\"tah p11\">60,800</span></td>\\n\\t\\t\\t\\t\\t<td class=\"num\"><span class=\"tah p11\">60,200</span></td>\\n\\t\\t\\t\\t\\t<td class=\"num\"><span class=\"tah p11\">11,155,697</span></td>\\n\\t\\t\\t\\t\\t</tr>\\n\\t\\t\\t\\t\\n\\t\\t\\t\\t\\n\\t\\t\\t\\n\\t\\t\\t\\n\\t\\t\\t\\n\\t\\t\\t\\n\\t\\t\\t\\n\\t\\n\\t\\t\\n\\t\\t\\t\\n\\t\\t\\t\\t\\n\\t\\t\\t\\t\\t<tr onMouseOver=\"mouseOver(this)\" onMouseOut=\"mouseOut(this)\">\\n\\t\\t\\t\\t\\t<td align=\"center\"><span class=\"tah p10 gray03\">2023.02.24</span></td>\\n\\t\\t\\t\\t\\t<td class=\"num\"><span class=\"tah p11\">61,300</span></td>\\n\\t\\t\\t\\t\\t<td class=\"num\">\\n\\t\\t\\t\\t<img src=\"https://ssl.pstatic.net/imgstock/images/images4/ico_down.gif\" width=\"7\" height=\"6\" style=\"margin-right:4px;\" alt=\"하락\"><span class=\"tah p11 nv01\">\\n\\t\\t\\t\\t700\\n\\t\\t\\t\\t</span>\\n\\t\\t\\t</td>\\n\\t\\t\\t\\t\\t<td class=\"num\"><span class=\"tah p11\">62,300</span></td>\\n\\t\\t\\t\\t\\t<td class=\"num\"><span class=\"tah p11\">62,600</span></td>\\n\\t\\t\\t\\t\\t<td class=\"num\"><span class=\"tah p11\">61,300</span></td>\\n\\t\\t\\t\\t\\t<td class=\"num\"><span class=\"tah p11\">10,308,143</span></td>\\n\\t\\t\\t\\t\\t</tr>\\n\\t\\t\\t\\t\\n\\t\\t\\t\\t\\n\\t\\t\\t\\n\\t\\t\\t\\n\\t\\t\\t\\n\\t\\t\\t\\n\\t\\t\\t\\n\\t\\n\\t\\t\\n\\t\\n\\n\\t\\t\\t\\t<tr>\\n\\t\\t\\t\\t<td colspan=\"7\" height=\"8\"></td>\\n\\t\\t\\t\\t</tr>\\n\\t\\t\\t\\t</table>\\n\\t\\t\\t\\t<!--- 페이지 네비게이션 시작--->\\n\\t\\t\\t\\t<table summary=\"페이지 네비게이션 리스트\" class=\"Nnavi\" align=\"center\">\\n\\t\\t\\t\\t<caption>페이지 네비게이션</caption>\\n\\t\\t\\t\\t<tr>\\t\\t\\n\\t\\t\\t\\n\\t\\t\\t\\t<td class=\"pgLL\">\\n\\t\\t\\t\\t<a href=\"/item/sise_day.naver?code=005930&amp;page=1\"  >\\n\\t\\t\\t\\t<img src=\"https://ssl.pstatic.net/static/n/cmn/bu_pgarLL.gif\" width=\"7\" height=\"5\" alt=\"\">맨앞\\n\\t\\t\\t\\t</a>\\n\\t\\t\\t\\t</td>\\n\\n                \\n                <td>\\n\\t\\t\\t\\t<a href=\"/item/sise_day.naver?code=005930&amp;page=1\"  >1</a>\\n\\t\\t\\t\\t</td>\\n<td>\\n\\t\\t\\t\\t<a href=\"/item/sise_day.naver?code=005930&amp;page=2\"  >2</a>\\n\\t\\t\\t\\t</td>\\n<td>\\n\\t\\t\\t\\t<a href=\"/item/sise_day.naver?code=005930&amp;page=3\"  >3</a>\\n\\t\\t\\t\\t</td>\\n<td>\\n\\t\\t\\t\\t<a href=\"/item/sise_day.naver?code=005930&amp;page=4\"  >4</a>\\n\\t\\t\\t\\t</td>\\n<td>\\n\\t\\t\\t\\t<a href=\"/item/sise_day.naver?code=005930&amp;page=5\"  >5</a>\\n\\t\\t\\t\\t</td>\\n<td class=\"on\">\\n\\t\\t\\t\\t<a href=\"/item/sise_day.naver?code=005930&amp;page=6\"  >6</a>\\n\\t\\t\\t\\t</td>\\n<td>\\n\\t\\t\\t\\t<a href=\"/item/sise_day.naver?code=005930&amp;page=7\"  >7</a>\\n\\t\\t\\t\\t</td>\\n<td>\\n\\t\\t\\t\\t<a href=\"/item/sise_day.naver?code=005930&amp;page=8\"  >8</a>\\n\\t\\t\\t\\t</td>\\n<td>\\n\\t\\t\\t\\t<a href=\"/item/sise_day.naver?code=005930&amp;page=9\"  >9</a>\\n\\t\\t\\t\\t</td>\\n<td>\\n\\t\\t\\t\\t<a href=\"/item/sise_day.naver?code=005930&amp;page=10\"  >10</a>\\n\\t\\t\\t\\t</td>\\n\\n                <td class=\"pgR\">\\n\\t\\t\\t\\t<a href=\"/item/sise_day.naver?code=005930&amp;page=11\"  >\\n\\t\\t\\t\\t다음<img src=\"https://ssl.pstatic.net/static/n/cmn/bu_pgarR.gif\" width=\"3\" height=\"5\" alt=\"\" border=\"0\">\\n\\t\\t\\t\\t</a>\\n\\t\\t\\t\\t</td>\\n\\n                <td class=\"pgRR\">\\n\\t\\t\\t\\t<a href=\"/item/sise_day.naver?code=005930&amp;page=676\"  >맨뒤\\n\\t\\t\\t\\t<img src=\"https://ssl.pstatic.net/static/n/cmn/bu_pgarRR.gif\" width=\"8\" height=\"5\" alt=\"\" border=\"0\">\\n\\t\\t\\t\\t</a>\\n\\t\\t\\t\\t</td>\\n\\n            \\n\\t\\t\\t\\t</tr>\\n\\t\\t\\t\\t</table>\\n\\t\\t\\t\\t<!--- 페이지 네비게이션 끝--->\\n\\n\\n\\t<script type=\"text/javascript\" src=\"https://ssl.pstatic.net/imgstock/static.pc/20230519195543/js/jindo.min.ns.1.5.3.euckr.js\"></script>\\n\\t<script type=\"text/javascript\" src=\"https://ssl.pstatic.net/imgstock/static.pc/20230519195543/js/lcslog.js\"></script>\\n\\t<script type=\"text/javascript\">\\n        ;(function(){\\n            var eventType = \"onpageshow\" in window ? \"pageshow\" : \"load\";\\n            jindo.$Fn(function(){\\n                lcs_do();\\n            }).attach(window, eventType);\\n        })();\\n\\t</script>\\n\\n</body>\\n'"
      ]
     },
     "execution_count": 10,
     "metadata": {},
     "output_type": "execute_result"
    }
   ],
   "source": [
    "# 원하는 내용이 전부 나오는 것을 확인할 수 있다\n",
    "res.text"
   ]
  },
  {
   "cell_type": "code",
   "execution_count": 11,
   "id": "f34491e7",
   "metadata": {},
   "outputs": [],
   "source": [
    "import bs4\n",
    "soup = bs4.BeautifulSoup(res.text)"
   ]
  },
  {
   "cell_type": "code",
   "execution_count": 12,
   "id": "213c9221",
   "metadata": {},
   "outputs": [
    {
     "data": {
      "text/plain": [
       "[]"
      ]
     },
     "execution_count": 12,
     "metadata": {},
     "output_type": "execute_result"
    }
   ],
   "source": [
    "# table 가져오기\n",
    "# - 아래 사항이 안가져와 지게 된다. 왜냐하면 우리가 실제 가져오는 데이터는\n",
    "# - 우리가 현재 보고 있는 페이지가 아니라, \n",
    "#    NetWork - All - 특정 request - Response 에 대응되는 자료이기 때문이다.\n",
    "soup.select(\"table.type2 > tbody > tr\")"
   ]
  },
  {
   "cell_type": "code",
   "execution_count": 14,
   "id": "37366a07",
   "metadata": {},
   "outputs": [],
   "source": [
    "# 실제 Response 에는 table 밑에 바로 tr 이 존재한다.\n",
    "tr_elements = soup.select(\"table.type2 > tr\")"
   ]
  },
  {
   "cell_type": "code",
   "execution_count": 15,
   "id": "61a9cc61",
   "metadata": {},
   "outputs": [
    {
     "data": {
      "text/plain": [
       "16"
      ]
     },
     "execution_count": 15,
     "metadata": {},
     "output_type": "execute_result"
    }
   ],
   "source": [
    "len(tr_elements)"
   ]
  },
  {
   "cell_type": "code",
   "execution_count": 17,
   "id": "6aff6f38",
   "metadata": {
    "collapsed": true
   },
   "outputs": [
    {
     "name": "stdout",
     "output_type": "stream",
     "text": [
      "날짜\n",
      "종가\n",
      "전일비\n",
      "시가\n",
      "고가\n",
      "저가\n",
      "거래량\n",
      "\n",
      "2023.03.10\n",
      "59,500\n",
      "\n",
      "\n",
      "\t\t\t\t600\n",
      "\t\t\t\t\n",
      "\n",
      "59,500\n",
      "59,700\n",
      "59,100\n",
      "11,902,471\n",
      "2023.03.09\n",
      "60,100\n",
      "\n",
      "\n",
      "\t\t\t\t200\n",
      "\t\t\t\t\n",
      "\n",
      "60,500\n",
      "60,800\n",
      "59,900\n",
      "14,334,499\n",
      "2023.03.08\n",
      "60,300\n",
      "\n",
      "\n",
      "\t\t\t\t400\n",
      "\t\t\t\t\n",
      "\n",
      "60,100\n",
      "60,500\n",
      "59,900\n",
      "14,161,857\n",
      "2023.03.07\n",
      "60,700\n",
      "\n",
      "\n",
      "\t\t\t\t800\n",
      "\t\t\t\t\n",
      "\n",
      "61,400\n",
      "61,400\n",
      "60,700\n",
      "11,473,280\n",
      "2023.03.06\n",
      "61,500\n",
      "\n",
      "\n",
      "\t\t\t\t1,000\n",
      "\t\t\t\t\n",
      "\n",
      "61,100\n",
      "61,600\n",
      "60,800\n",
      "13,630,602\n",
      "\n",
      "\n",
      "\n",
      "2023.03.03\n",
      "60,500\n",
      "\n",
      "\n",
      "\t\t\t\t300\n",
      "\t\t\t\t\n",
      "\n",
      "61,000\n",
      "61,200\n",
      "60,500\n",
      "10,711,405\n",
      "2023.03.02\n",
      "60,800\n",
      "\n",
      "\n",
      "\t\t\t\t200\n",
      "\t\t\t\t\n",
      "\n",
      "60,900\n",
      "61,800\n",
      "60,500\n",
      "13,095,682\n",
      "2023.02.28\n",
      "60,600\n",
      "\n",
      "\n",
      "\t\t\t\t100\n",
      "\t\t\t\t\n",
      "\n",
      "60,800\n",
      "61,400\n",
      "60,500\n",
      "13,715,861\n",
      "2023.02.27\n",
      "60,500\n",
      "\n",
      "\n",
      "\t\t\t\t800\n",
      "\t\t\t\t\n",
      "\n",
      "60,800\n",
      "60,800\n",
      "60,200\n",
      "11,155,697\n",
      "2023.02.24\n",
      "61,300\n",
      "\n",
      "\n",
      "\t\t\t\t700\n",
      "\t\t\t\t\n",
      "\n",
      "62,300\n",
      "62,600\n",
      "61,300\n",
      "10,308,143\n",
      "\n"
     ]
    }
   ],
   "source": [
    "for e in tr_elements :\n",
    "    print(e.text.strip())"
   ]
  },
  {
   "cell_type": "code",
   "execution_count": 18,
   "id": "351b17a0",
   "metadata": {},
   "outputs": [],
   "source": [
    "th_element = soup.select(\"table.type2 > tr > th\")"
   ]
  },
  {
   "cell_type": "code",
   "execution_count": 19,
   "id": "49cf1f6c",
   "metadata": {},
   "outputs": [
    {
     "name": "stdout",
     "output_type": "stream",
     "text": [
      "날짜\n",
      "종가\n",
      "전일비\n",
      "시가\n",
      "고가\n",
      "저가\n",
      "거래량\n"
     ]
    }
   ],
   "source": [
    "for h in th_element :\n",
    "    print(h.text.strip())"
   ]
  },
  {
   "cell_type": "code",
   "execution_count": 28,
   "id": "39c28362",
   "metadata": {
    "scrolled": true
   },
   "outputs": [
    {
     "data": {
      "text/plain": [
       "10"
      ]
     },
     "execution_count": 28,
     "metadata": {},
     "output_type": "execute_result"
    }
   ],
   "source": [
    "# 의미있는 데이터들만 추려내고자 한다. attribute 속성을 이용한다\n",
    "# tr 중에서 onmouseover=mouseOver(this) attr 를 가진 녀석들만 가져와줘\n",
    "data_tr_elements = soup.select(\"table.type2 > tr[onmouseover='mouseOver(this)']\")\n",
    "len(data_tr_elements)"
   ]
  },
  {
   "cell_type": "code",
   "execution_count": 32,
   "id": "eabe349a",
   "metadata": {},
   "outputs": [
    {
     "data": {
      "text/plain": [
       "10"
      ]
     },
     "execution_count": 32,
     "metadata": {},
     "output_type": "execute_result"
    }
   ],
   "source": [
    "# find 버전\n",
    "# 의미있는 데이터들만 추려내고자 한다. attribute 속성을 이용한다\n",
    "# tr 중에서 onmouseover=mouseOver(this) attr 를 가진 녀석들만 가져와줘\n",
    "data_tr_elements = soup.find(\"table\",class_=\"type2\").find_all(\"tr\", {\"onmouseover\" : \"mouseOver(this)\"})\n",
    "len(data_tr_elements)"
   ]
  },
  {
   "cell_type": "code",
   "execution_count": 34,
   "id": "e001a16a",
   "metadata": {
    "collapsed": true
   },
   "outputs": [
    {
     "name": "stdout",
     "output_type": "stream",
     "text": [
      "2023.03.10\n",
      "59,500\n",
      "\n",
      "\n",
      "\t\t\t\t600\n",
      "\t\t\t\t\n",
      "\n",
      "59,500\n",
      "59,700\n",
      "59,100\n",
      "11,902,471\n",
      "\n",
      "2023.03.09\n",
      "60,100\n",
      "\n",
      "\n",
      "\t\t\t\t200\n",
      "\t\t\t\t\n",
      "\n",
      "60,500\n",
      "60,800\n",
      "59,900\n",
      "14,334,499\n",
      "\n",
      "2023.03.08\n",
      "60,300\n",
      "\n",
      "\n",
      "\t\t\t\t400\n",
      "\t\t\t\t\n",
      "\n",
      "60,100\n",
      "60,500\n",
      "59,900\n",
      "14,161,857\n",
      "\n",
      "2023.03.07\n",
      "60,700\n",
      "\n",
      "\n",
      "\t\t\t\t800\n",
      "\t\t\t\t\n",
      "\n",
      "61,400\n",
      "61,400\n",
      "60,700\n",
      "11,473,280\n",
      "\n",
      "2023.03.06\n",
      "61,500\n",
      "\n",
      "\n",
      "\t\t\t\t1,000\n",
      "\t\t\t\t\n",
      "\n",
      "61,100\n",
      "61,600\n",
      "60,800\n",
      "13,630,602\n",
      "\n",
      "2023.03.03\n",
      "60,500\n",
      "\n",
      "\n",
      "\t\t\t\t300\n",
      "\t\t\t\t\n",
      "\n",
      "61,000\n",
      "61,200\n",
      "60,500\n",
      "10,711,405\n",
      "\n",
      "2023.03.02\n",
      "60,800\n",
      "\n",
      "\n",
      "\t\t\t\t200\n",
      "\t\t\t\t\n",
      "\n",
      "60,900\n",
      "61,800\n",
      "60,500\n",
      "13,095,682\n",
      "\n",
      "2023.02.28\n",
      "60,600\n",
      "\n",
      "\n",
      "\t\t\t\t100\n",
      "\t\t\t\t\n",
      "\n",
      "60,800\n",
      "61,400\n",
      "60,500\n",
      "13,715,861\n",
      "\n",
      "2023.02.27\n",
      "60,500\n",
      "\n",
      "\n",
      "\t\t\t\t800\n",
      "\t\t\t\t\n",
      "\n",
      "60,800\n",
      "60,800\n",
      "60,200\n",
      "11,155,697\n",
      "\n",
      "2023.02.24\n",
      "61,300\n",
      "\n",
      "\n",
      "\t\t\t\t700\n",
      "\t\t\t\t\n",
      "\n",
      "62,300\n",
      "62,600\n",
      "61,300\n",
      "10,308,143\n",
      "\n"
     ]
    }
   ],
   "source": [
    "for h in data_tr_elements :\n",
    "    print(h.text.strip())\n",
    "    print(\"\")"
   ]
  },
  {
   "cell_type": "code",
   "execution_count": 36,
   "id": "bf4b054f",
   "metadata": {},
   "outputs": [],
   "source": [
    "total_data_list = []\n",
    "for e in data_tr_elements :\n",
    "    # 각 tr, 즉 row 마다 data 를 가져온다\n",
    "    td_elements = e.select(\"td\")\n",
    "    data_list = []\n",
    "    for td_e in td_elements :\n",
    "        data_list.append(td_e.text.strip())\n",
    "    total_data_list.append(data_list)"
   ]
  },
  {
   "cell_type": "code",
   "execution_count": 42,
   "id": "8487fd31",
   "metadata": {
    "collapsed": true
   },
   "outputs": [
    {
     "data": {
      "text/plain": [
       "[[['2023.05.23', '68,400', '100', '68,500', '68,700', '68,100', '8,508,045'],\n",
       "  ['2023.05.22', '68,500', '100', '68,400', '69,000', '68,000', '14,470,308'],\n",
       "  ['2023.05.19',\n",
       "   '68,400',\n",
       "   '2,200',\n",
       "   '67,800',\n",
       "   '68,400',\n",
       "   '67,500',\n",
       "   '20,349,345'],\n",
       "  ['2023.05.18',\n",
       "   '66,200',\n",
       "   '1,200',\n",
       "   '66,000',\n",
       "   '66,200',\n",
       "   '65,700',\n",
       "   '14,431,704'],\n",
       "  ['2023.05.17', '65,000', '400', '65,900', '65,900', '64,800', '10,745,504'],\n",
       "  ['2023.05.16', '65,400', '900', '65,800', '65,900', '65,300', '12,334,657'],\n",
       "  ['2023.05.15', '64,500', '400', '64,100', '64,600', '63,900', '8,172,021'],\n",
       "  ['2023.05.12', '64,100', '100', '63,700', '64,600', '63,600', '8,693,913'],\n",
       "  ['2023.05.11', '64,200', '400', '64,700', '65,100', '64,200', '11,648,905'],\n",
       "  ['2023.05.10', '64,600', '700', '65,500', '65,500', '64,300', '13,057,727']],\n",
       " [['2023.05.09', '65,300', '600', '65,800', '65,800', '65,100', '9,366,861'],\n",
       "  ['2023.05.08', '65,900', '800', '66,300', '66,300', '65,400', '9,405,365'],\n",
       "  ['2023.05.04', '65,100', '300', '65,600', '65,700', '64,700', '9,791,064'],\n",
       "  ['2023.05.03', '65,400', '300', '65,100', '65,600', '64,900', '8,876,749'],\n",
       "  ['2023.05.02', '65,700', '200', '66,000', '66,300', '65,100', '14,396,948'],\n",
       "  ['2023.04.28', '65,500', '900', '65,200', '65,900', '65,000', '19,699,481'],\n",
       "  ['2023.04.27', '64,600', '500', '64,100', '65,000', '63,300', '14,779,601'],\n",
       "  ['2023.04.26', '64,100', '500', '63,600', '64,300', '63,300', '12,664,541'],\n",
       "  ['2023.04.25',\n",
       "   '63,600',\n",
       "   '1,600',\n",
       "   '65,300',\n",
       "   '65,400',\n",
       "   '63,400',\n",
       "   '16,193,271'],\n",
       "  ['2023.04.24', '65,200', '500', '65,300', '65,700', '64,800', '12,986,581']],\n",
       " [['2023.04.21', '65,700', '400', '65,800', '65,900', '65,400', '10,538,622'],\n",
       "  ['2023.04.20', '65,300', '200', '65,100', '65,300', '64,600', '9,501,169'],\n",
       "  ['2023.04.19', '65,500', '100', '65,500', '65,800', '65,300', '10,255,985'],\n",
       "  ['2023.04.18', '65,600', '300', '65,900', '66,000', '64,800', '14,802,060'],\n",
       "  ['2023.04.17', '65,300', '200', '65,000', '65,600', '64,700', '13,486,618'],\n",
       "  ['2023.04.14',\n",
       "   '65,100',\n",
       "   '1,000',\n",
       "   '66,600',\n",
       "   '66,600',\n",
       "   '65,000',\n",
       "   '16,176,490'],\n",
       "  ['2023.04.13', '66,100', '100', '65,600', '66,100', '65,400', '15,091,022'],\n",
       "  ['2023.04.12', '66,000', '100', '65,800', '66,200', '65,300', '15,021,313'],\n",
       "  ['2023.04.11', '65,900', '200', '66,200', '66,200', '65,400', '16,323,183'],\n",
       "  ['2023.04.10', '65,700', '700', '64,800', '66,300', '64,700', '18,777,166']],\n",
       " [['2023.04.07',\n",
       "   '65,000',\n",
       "   '2,700',\n",
       "   '63,800',\n",
       "   '65,200',\n",
       "   '63,800',\n",
       "   '27,476,120'],\n",
       "  ['2023.04.06',\n",
       "   '62,300',\n",
       "   '1,600',\n",
       "   '63,500',\n",
       "   '63,600',\n",
       "   '62,300',\n",
       "   '14,992,747'],\n",
       "  ['2023.04.05', '63,900', '300', '63,700', '64,000', '63,400', '9,176,149'],\n",
       "  ['2023.04.04', '63,600', '500', '63,400', '63,800', '62,800', '11,120,514'],\n",
       "  ['2023.04.03', '63,100', '900', '64,000', '64,000', '63,000', '11,973,133'],\n",
       "  ['2023.03.31', '64,000', '800', '64,000', '64,000', '63,700', '14,094,479'],\n",
       "  ['2023.03.30', '63,200', '500', '63,700', '63,700', '63,100', '15,684,377'],\n",
       "  ['2023.03.29', '62,700', '200', '62,500', '62,700', '62,200', '11,216,008'],\n",
       "  ['2023.03.28', '62,900', '800', '62,400', '62,900', '62,100', '11,614,118'],\n",
       "  ['2023.03.27', '62,100', '900', '62,600', '62,800', '62,000', '11,039,331']],\n",
       " [['2023.03.24', '63,000', '700', '62,700', '63,300', '62,300', '18,278,602'],\n",
       "  ['2023.03.23',\n",
       "   '62,300',\n",
       "   '1,200',\n",
       "   '60,600',\n",
       "   '62,300',\n",
       "   '60,600',\n",
       "   '15,381,057'],\n",
       "  ['2023.03.22', '61,100', '800', '61,000', '61,200', '60,500', '8,978,591'],\n",
       "  ['2023.03.21', '60,300', '100', '60,500', '60,700', '60,100', '8,318,514'],\n",
       "  ['2023.03.20', '60,200', '1,100', '61,100', '61,200', '60,200', '9,618,009'],\n",
       "  ['2023.03.17',\n",
       "   '61,300',\n",
       "   '1,400',\n",
       "   '60,800',\n",
       "   '61,300',\n",
       "   '60,600',\n",
       "   '14,090,110'],\n",
       "  ['2023.03.16', '59,900', '100', '59,200', '60,200', '59,100', '10,611,939'],\n",
       "  ['2023.03.15', '59,800', '800', '60,000', '60,300', '59,600', '10,482,149'],\n",
       "  ['2023.03.14',\n",
       "   '59,000',\n",
       "   '1,000',\n",
       "   '59,400',\n",
       "   '59,500',\n",
       "   '59,000',\n",
       "   '12,147,346'],\n",
       "  ['2023.03.13', '60,000', '500', '59,900', '60,200', '59,300', '12,779,724']],\n",
       " [['2023.03.10', '59,500', '600', '59,500', '59,700', '59,100', '11,902,471'],\n",
       "  ['2023.03.09', '60,100', '200', '60,500', '60,800', '59,900', '14,334,499'],\n",
       "  ['2023.03.08', '60,300', '400', '60,100', '60,500', '59,900', '14,161,857'],\n",
       "  ['2023.03.07', '60,700', '800', '61,400', '61,400', '60,700', '11,473,280'],\n",
       "  ['2023.03.06',\n",
       "   '61,500',\n",
       "   '1,000',\n",
       "   '61,100',\n",
       "   '61,600',\n",
       "   '60,800',\n",
       "   '13,630,602'],\n",
       "  ['2023.03.03', '60,500', '300', '61,000', '61,200', '60,500', '10,711,405'],\n",
       "  ['2023.03.02', '60,800', '200', '60,900', '61,800', '60,500', '13,095,682'],\n",
       "  ['2023.02.28', '60,600', '100', '60,800', '61,400', '60,500', '13,715,861'],\n",
       "  ['2023.02.27', '60,500', '800', '60,800', '60,800', '60,200', '11,155,697'],\n",
       "  ['2023.02.24', '61,300', '700', '62,300', '62,600', '61,300', '10,308,143']],\n",
       " [['2023.02.23', '62,000', '900', '61,700', '62,500', '61,500', '13,047,099'],\n",
       "  ['2023.02.22',\n",
       "   '61,100',\n",
       "   '1,000',\n",
       "   '61,500',\n",
       "   '61,800',\n",
       "   '61,000',\n",
       "   '11,959,088'],\n",
       "  ['2023.02.21', '62,100', '600', '62,700', '62,800', '62,000', '7,665,046'],\n",
       "  ['2023.02.20', '62,700', '100', '62,900', '63,000', '61,800', '12,908,073'],\n",
       "  ['2023.02.17',\n",
       "   '62,600',\n",
       "   '1,100',\n",
       "   '62,900',\n",
       "   '63,300',\n",
       "   '62,400',\n",
       "   '10,791,265'],\n",
       "  ['2023.02.16',\n",
       "   '63,700',\n",
       "   '1,500',\n",
       "   '62,500',\n",
       "   '63,700',\n",
       "   '62,400',\n",
       "   '13,798,831'],\n",
       "  ['2023.02.15',\n",
       "   '62,200',\n",
       "   '1,000',\n",
       "   '63,900',\n",
       "   '63,900',\n",
       "   '62,000',\n",
       "   '13,208,103'],\n",
       "  ['2023.02.14', '63,200', '300', '63,600', '63,900', '63,200', '9,126,664'],\n",
       "  ['2023.02.13', '62,900', '100', '62,900', '63,000', '62,300', '10,730,362'],\n",
       "  ['2023.02.10', '62,800', '200', '62,600', '63,000', '62,400', '9,382,576']],\n",
       " [['2023.02.09', '63,000', '100', '63,000', '63,300', '62,300', '12,164,865'],\n",
       "  ['2023.02.08',\n",
       "   '63,100',\n",
       "   '1,200',\n",
       "   '62,800',\n",
       "   '63,300',\n",
       "   '62,400',\n",
       "   '12,243,125'],\n",
       "  ['2023.02.07', '61,900', '300', '61,900', '62,500', '61,600', '14,491,039'],\n",
       "  ['2023.02.06',\n",
       "   '61,600',\n",
       "   '2,200',\n",
       "   '62,800',\n",
       "   '63,000',\n",
       "   '61,600',\n",
       "   '15,529,356'],\n",
       "  ['2023.02.03', '63,800', '300', '63,900', '64,000', '63,000', '15,194,598'],\n",
       "  ['2023.02.02',\n",
       "   '63,500',\n",
       "   '1,700',\n",
       "   '63,200',\n",
       "   '63,900',\n",
       "   '62,600',\n",
       "   '23,285,983'],\n",
       "  ['2023.02.01', '61,800', '800', '62,600', '62,700', '61,000', '18,570,133'],\n",
       "  ['2023.01.31',\n",
       "   '61,000',\n",
       "   '2,300',\n",
       "   '63,500',\n",
       "   '63,700',\n",
       "   '61,000',\n",
       "   '29,746,731'],\n",
       "  ['2023.01.30',\n",
       "   '63,300',\n",
       "   '1,300',\n",
       "   '64,900',\n",
       "   '64,900',\n",
       "   '63,100',\n",
       "   '20,995,234'],\n",
       "  ['2023.01.27', '64,600', '700', '64,400', '65,000', '63,900', '18,760,182']],\n",
       " [['2023.01.26', '63,900', '500', '63,800', '63,900', '63,300', '13,278,277'],\n",
       "  ['2023.01.25',\n",
       "   '63,400',\n",
       "   '1,600',\n",
       "   '63,500',\n",
       "   '63,700',\n",
       "   '63,000',\n",
       "   '16,822,710'],\n",
       "  ['2023.01.20', '61,800', '300', '62,100', '62,300', '61,100', '9,646,327'],\n",
       "  ['2023.01.19',\n",
       "   '61,500',\n",
       "   '1,100',\n",
       "   '60,500',\n",
       "   '61,500',\n",
       "   '60,400',\n",
       "   '12,808,490'],\n",
       "  ['2023.01.18', '60,400', '600', '60,700', '61,000', '59,900', '11,584,041'],\n",
       "  ['2023.01.17', '61,000', '100', '61,200', '61,500', '60,600', '9,831,456'],\n",
       "  ['2023.01.16', '61,100', '300', '61,300', '61,600', '60,800', '10,039,972'],\n",
       "  ['2023.01.13', '60,800', '300', '60,500', '61,200', '60,400', '12,510,328'],\n",
       "  ['2023.01.12', '60,500', '0', '61,100', '61,200', '59,900', '16,102,561'],\n",
       "  ['2023.01.11', '60,500', '100', '61,000', '61,200', '60,300', '12,310,751']]]"
      ]
     },
     "execution_count": 42,
     "metadata": {},
     "output_type": "execute_result"
    }
   ],
   "source": [
    "total_data_list"
   ]
  },
  {
   "cell_type": "code",
   "execution_count": 44,
   "id": "734ea755",
   "metadata": {},
   "outputs": [],
   "source": [
    "import time"
   ]
  },
  {
   "cell_type": "code",
   "execution_count": 45,
   "id": "9934b6fc",
   "metadata": {},
   "outputs": [],
   "source": [
    "import random"
   ]
  },
  {
   "cell_type": "code",
   "execution_count": 50,
   "id": "73b98f9f",
   "metadata": {},
   "outputs": [],
   "source": [
    "# 모든 데이터에 대해 가져오기\n",
    "total_data_list = []\n",
    "page_num = 1\n",
    "while True :\n",
    "    url = \"https://finance.naver.com/item/sise_day.naver?code=005930&page={}\".format(page_num)\n",
    "    res = requests.get(url, headers = req_headers)\n",
    "    soup = bs4.BeautifulSoup(res.text)\n",
    "    data_tr_elements = soup.select(\"table.type2 > tr[onmouseover='mouseOver(this)']\")\n",
    "    page_data_list = []\n",
    "    for e in data_tr_elements :\n",
    "        # 각 tr, 즉 row 마다 data 를 가져온다\n",
    "        td_elements = e.select(\"td\")\n",
    "        data_list = []\n",
    "        # 날짜 정보만 담는 set\n",
    "        data_time_set = set()\n",
    "        # enumerate : idx~val 을 쌍으로 리턴해준다.\n",
    "        for idx, td_e in enumerate(td_elements) :\n",
    "            # 날짜 데이터\n",
    "            if idx == 0 :\n",
    "                data_time_set.add(td_e)\n",
    "            data_list.append(td_e.text.strip())\n",
    "        page_data_list.append(data_list)\n",
    "    total_data_list.append(page_data_list)\n",
    "    # 지나치게 빠른 속도로 요청을 보내는 것을 제한하기 위함\n",
    "    time.sleep(random.random() * 2)\n",
    "    page_num += 1"
   ]
  },
  {
   "cell_type": "code",
   "execution_count": 51,
   "id": "1d2b73a8",
   "metadata": {},
   "outputs": [
    {
     "data": {
      "text/plain": [
       "9"
      ]
     },
     "execution_count": 51,
     "metadata": {},
     "output_type": "execute_result"
    }
   ],
   "source": [
    "len(total_data_list)"
   ]
  },
  {
   "cell_type": "code",
   "execution_count": null,
   "id": "ea71e8c3",
   "metadata": {},
   "outputs": [],
   "source": []
  }
 ],
 "metadata": {
  "kernelspec": {
   "display_name": "Python 3 (ipykernel)",
   "language": "python",
   "name": "python3"
  },
  "language_info": {
   "codemirror_mode": {
    "name": "ipython",
    "version": 3
   },
   "file_extension": ".py",
   "mimetype": "text/x-python",
   "name": "python",
   "nbconvert_exporter": "python",
   "pygments_lexer": "ipython3",
   "version": "3.10.9"
  }
 },
 "nbformat": 4,
 "nbformat_minor": 5
}
